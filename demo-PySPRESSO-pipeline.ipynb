{
 "cells": [
  {
   "cell_type": "markdown",
   "metadata": {},
   "source": [
    "# Example pipeline for easier usage\n"
   ]
  },
  {
   "cell_type": "markdown",
   "metadata": {},
   "source": [
    "### SETUP"
   ]
  },
  {
   "cell_type": "code",
   "execution_count": null,
   "metadata": {},
   "outputs": [],
   "source": [
    "# Clone my github repositories for the necessary modules\n",
    "!git clone https://github.com/Najlaron/PySPRESSO\n",
    "!git clone https://github.com/Najlaron/pdf_reporter\n",
    "\n",
    "# Install other necessary modules\n",
    "%pip install reportlab\n",
    "%pip install PyPDF2"
   ]
  },
  {
   "cell_type": "code",
   "execution_count": 1,
   "metadata": {},
   "outputs": [],
   "source": [
    "import PySPRESSO.pmf_01 as pmf\n",
    "import pdf_reporter.pdf_reporter as pdf_rptr\n",
    "\n",
    "wf = pmf.Workflow()"
   ]
  },
  {
   "cell_type": "markdown",
   "metadata": {},
   "source": [
    "### Upload your files into Files (on the left)"
   ]
  },
  {
   "cell_type": "markdown",
   "metadata": {},
   "source": [
    "## Change things in the following cell according to your data and settings"
   ]
  },
  {
   "cell_type": "code",
   "execution_count": null,
   "metadata": {},
   "outputs": [],
   "source": [
    "# You can change the names and paths to the files here, but there are also demo_data\n",
    "\n",
    "demo_data = 'https://raw.githubusercontent.com/Najlaron/PySPRESSO/main/demo_data.csv'\n",
    "demo_batch_info = 'https://raw.githubusercontent.com/Najlaron/PySPRESSO/main/demo_data_batch_info.csv'\n",
    "\n",
    "# Names\n",
    "name = \"Demo_data-POS\" # Name of the workflow\n",
    "main_folder = \"Demo_data-POS_analysis\" # Name of the main folder\n",
    "report_file_name = \"Demo_data-POS-report\" # Name of the report file\n",
    "output_file_prefix = \"Demo_data-POS\" # Prefix for the output files\n",
    "# Choose if you want the report to be for proccessing or statistics (for both use either one - just a visual difference)\n",
    "report_type = \"processing\" # or \"statistics\"\n",
    "\n",
    "\n",
    "# Paths to the data files UPLOAD YOUR FILES INTO COLAB (ON THE LEFT) OR TRY DEMO ON OUR FILES\n",
    "data_input_file_name = demo_data # Path to the data file\n",
    "batch_info_input_file_name = demo_batch_info # Path to the batch info file\n",
    "\n",
    "\n",
    "# Incorporating the changes\n",
    "wf.set_name(name)\n",
    "wf.set_main_folder(main_folder)\n",
    "wf.set_report_file_name(report_file_name)\n",
    "wf.initializer_report(report_type = report_type)\n",
    "wf.initializer_folders()\n",
    "wf.set_output_file_prefix(output_file_prefix)"
   ]
  },
  {
   "cell_type": "markdown",
   "metadata": {},
   "source": [
    "## Loading the data"
   ]
  },
  {
   "cell_type": "markdown",
   "metadata": {},
   "source": [
    "#### Change the parameters if error occurs or you want different settings"
   ]
  },
  {
   "cell_type": "code",
   "execution_count": null,
   "metadata": {},
   "outputs": [],
   "source": [
    "# Load data\n",
    "wf.loader_data(data_input_file_name, separator = ';', encoding = 'UTF-8')\n",
    "\n",
    "# Add cpdID\n",
    "wf.add_cpdID(mz_col = 'm/z', rt_col = 'RT [min]')\n",
    "\n",
    "# Extract variable metadata from the data by choosing specific columns\n",
    "wf.extracter_variable_metadata(column_index_ranges = [(10, 15), (18, 23)])\n",
    "\n",
    "# Extract numerical data from the data by choosing columns starting with prefix\n",
    "wf.extracter_data(prefix = 'Area:')\n",
    "\n",
    "# Load batch info\n",
    "wf.loader_batch_info(batch_info_input_file_name)\n",
    "\n",
    "# Reorder data based on the creation date in the batch info file;\n",
    "# distinguisher is something in the name of the file after which a name or number of the batch follows\n",
    "wf.batch_by_name_reorder(distinguisher = None, format='%d.%m.%Y %H:%M')\n",
    "\n",
    "# Extract metadata from batch info by choosing specific columns\n",
    "group_columns_to_keep = ['Type', 'Type 2']\n",
    "# columns such Study File ID, File Name, Creation Date, Sample Type, ... are always kept\n",
    "wf.extracter_metadata(group_columns_to_keep, prefix = 'Area:')\n",
    "\n",
    "print()"
   ]
  },
  {
   "cell_type": "markdown",
   "metadata": {},
   "source": [
    "## Showing all the data matrices"
   ]
  },
  {
   "cell_type": "code",
   "execution_count": null,
   "metadata": {},
   "outputs": [],
   "source": [
    "wf.data"
   ]
  },
  {
   "cell_type": "code",
   "execution_count": null,
   "metadata": {},
   "outputs": [],
   "source": [
    "wf.metadata"
   ]
  },
  {
   "cell_type": "code",
   "execution_count": null,
   "metadata": {},
   "outputs": [],
   "source": [
    "wf.variable_metadata"
   ]
  },
  {
   "cell_type": "code",
   "execution_count": null,
   "metadata": {},
   "outputs": [],
   "source": [
    "wf.batch_info"
   ]
  },
  {
   "cell_type": "markdown",
   "metadata": {},
   "source": [
    "## Setup QC samples and blank samples"
   ]
  },
  {
   "cell_type": "markdown",
   "metadata": {},
   "source": [
    "### Change the distinguisher (label) or the column names, if necessary"
   ]
  },
  {
   "cell_type": "code",
   "execution_count": null,
   "metadata": {},
   "outputs": [],
   "source": [
    "# Define how the QC samples are distinguished from the rest of the samples\n",
    "qc_samples_distinguisher = 'Quality Control'\n",
    "\n",
    "# Get a list of the QC samples\n",
    "QC_samples = wf.metadata[wf.metadata['Sample Type'] == qc_samples_distinguisher]['Sample File'].tolist()\n",
    "# Save the list of QC samples\n",
    "wf.set_QC_samples(QC_samples)\n",
    "\n",
    "# ---------------------------------------------\n",
    "# Repeat for the blank samples\n",
    "blank_samples_distinguisher = 'Blank'\n",
    "\n",
    "# Get a list of the blank samples\n",
    "blank_samples = wf.metadata[wf.metadata['Sample Type'] == blank_samples_distinguisher]['Sample File'].tolist()\n",
    "# Save the list of blank samples\n",
    "wf.set_blank_samples(blank_samples)\n",
    "\n"
   ]
  },
  {
   "cell_type": "markdown",
   "metadata": {},
   "source": [
    "### Setup Batch labels, if you have more then one batch"
   ]
  },
  {
   "cell_type": "code",
   "execution_count": null,
   "metadata": {},
   "outputs": [],
   "source": [
    "# IF YOUR DATA INCLUDES BATCHES, RUN THIS CELL WITH PROPER CHANGES \n",
    "# (if you dont have batches, you can skip this cell, or set it to None by running this line of code: wf.set_batch(None))\n",
    "\n",
    "# Define the batches\n",
    "column_name_in_batch_info = 'Batch'\n",
    "\n",
    "# Get a list of the batches and filter out the None values\n",
    "batch = wf.batch_info[column_name_in_batch_info].tolist()\n",
    "\n",
    "# Filter out the None values\n",
    "batch = [value for value in batch if value is not None]\n",
    "\n",
    "# Add the batch info to the metadata\n",
    "wf.metadata['Batch'] = batch\n",
    "\n",
    "# Save the list of batches\n",
    "wf.set_batch(batch)"
   ]
  },
  {
   "cell_type": "markdown",
   "metadata": {},
   "source": [
    "# PROCESSING & ANALYSIS STEPS"
   ]
  },
  {
   "cell_type": "markdown",
   "metadata": {},
   "source": [
    "#### Following cells represent the order of processing and analysis steps, that we use"
   ]
  },
  {
   "cell_type": "markdown",
   "metadata": {
    "slideshow": {
     "slide_type": "slide"
    }
   },
   "source": [
    "#### Feel free to adjust the parameters or delete/drag cells to skip/change order of the steps "
   ]
  },
  {
   "cell_type": "markdown",
   "metadata": {},
   "source": [
    "## PROCESSING"
   ]
  },
  {
   "cell_type": "code",
   "execution_count": null,
   "metadata": {},
   "outputs": [],
   "source": [
    "# Remove features with missing values above a certain threshold\n",
    "wf.filter_missing_values(qc_threshold = 0.8, sample_threshold = 0.5)\n",
    "# Show data\n",
    "wf.data\n"
   ]
  },
  {
   "cell_type": "code",
   "execution_count": null,
   "metadata": {},
   "outputs": [],
   "source": [
    "# Visualize whole dataset as boxplot\n",
    "wf.visualizer_boxplot()"
   ]
  },
  {
   "cell_type": "code",
   "execution_count": null,
   "metadata": {},
   "outputs": [],
   "source": [
    "# Visualize samples by batches (if you have batches, else will be all in one color)\n",
    "wf.visualizer_samples_by_batch(show = 'default', cmap = 'viridis')"
   ]
  },
  {
   "cell_type": "markdown",
   "metadata": {},
   "source": [
    "### Systematic error and Batch effect correction"
   ]
  },
  {
   "cell_type": "code",
   "execution_count": null,
   "metadata": {},
   "outputs": [],
   "source": [
    "# Filter features with low intensity based on the blank samples\n",
    "wf.filter_blank_intensity_ratio(ratio = 20, setting = 'first')\n",
    "# Show data\n",
    "wf.data"
   ]
  },
  {
   "cell_type": "code",
   "execution_count": null,
   "metadata": {},
   "outputs": [],
   "source": [
    "# Filter out (delete) blank samples (we don't need them anymore)\n",
    "wf.filter_out_blanks()\n",
    "# Show data\n",
    "wf.data"
   ]
  },
  {
   "cell_type": "code",
   "execution_count": null,
   "metadata": {},
   "outputs": [],
   "source": [
    "# Perform correction using QC samples for an interpolation\n",
    "wf.correcter_qc_interpolation(show = 'default', p_values = 'default', use_log = True, use_norm = True, use_zeros = False, cmap  = 'viridis')"
   ]
  },
  {
   "cell_type": "markdown",
   "metadata": {},
   "source": [
    "### Filter by number of corrected batches"
   ]
  },
  {
   "cell_type": "code",
   "execution_count": null,
   "metadata": {},
   "outputs": [],
   "source": [
    "# Filter features with less then 80% correctable batches (batch is not correctable if if has too many QC samples being zeros)\n",
    "wf.filter_number_of_corrected_batches(0.8) "
   ]
  },
  {
   "cell_type": "markdown",
   "metadata": {},
   "source": [
    "### Filter RSD%"
   ]
  },
  {
   "cell_type": "code",
   "execution_count": null,
   "metadata": {},
   "outputs": [],
   "source": [
    "# Filter by RSD%\n",
    "wf.filter_relative_standard_deviation(rsd_threshold = 20, to_plot = False)"
   ]
  },
  {
   "cell_type": "markdown",
   "metadata": {},
   "source": [
    "### Saving the progress after processing"
   ]
  },
  {
   "cell_type": "code",
   "execution_count": null,
   "metadata": {},
   "outputs": [],
   "source": [
    "# Save the datasets \n",
    "wf.saver_all_datasets()"
   ]
  },
  {
   "cell_type": "markdown",
   "metadata": {},
   "source": [
    "## STATISTICAL ANALYSIS"
   ]
  },
  {
   "cell_type": "markdown",
   "metadata": {},
   "source": [
    "### Correlations"
   ]
  },
  {
   "cell_type": "code",
   "execution_count": null,
   "metadata": {},
   "outputs": [],
   "source": [
    "wf.statistics_correlation_means(column_name='Type', cmap = 'coolwarm', min_max=[0.8, 1])"
   ]
  },
  {
   "cell_type": "code",
   "execution_count": null,
   "metadata": {},
   "outputs": [],
   "source": [
    "wf.statistics_correlation_means(column_name='Type 2', cmap = 'coolwarm')"
   ]
  },
  {
   "cell_type": "markdown",
   "metadata": {},
   "source": [
    "### (Cohen's) d-statistics"
   ]
  },
  {
   "cell_type": "code",
   "execution_count": 21,
   "metadata": {},
   "outputs": [],
   "source": [
    "#TO DO"
   ]
  },
  {
   "cell_type": "markdown",
   "metadata": {},
   "source": [
    "### PCA"
   ]
  },
  {
   "cell_type": "code",
   "execution_count": null,
   "metadata": {},
   "outputs": [],
   "source": [
    "#Perform PCA\n",
    "wf.statistics_PCA()"
   ]
  },
  {
   "cell_type": "markdown",
   "metadata": {},
   "source": [
    "#### Scree plot"
   ]
  },
  {
   "cell_type": "code",
   "execution_count": null,
   "metadata": {},
   "outputs": [],
   "source": [
    "wf.visualizer_PCA_scree_plot()\n"
   ]
  },
  {
   "cell_type": "markdown",
   "metadata": {},
   "source": [
    "#### Loadings"
   ]
  },
  {
   "cell_type": "code",
   "execution_count": null,
   "metadata": {},
   "outputs": [],
   "source": [
    "wf.visualizer_PCA_loadings(components=2)"
   ]
  },
  {
   "cell_type": "markdown",
   "metadata": {},
   "source": [
    "#### Run order plot"
   ]
  },
  {
   "cell_type": "code",
   "execution_count": null,
   "metadata": {},
   "outputs": [],
   "source": [
    "wf.visualizer_PCA_run_order(connected = True)"
   ]
  },
  {
   "cell_type": "markdown",
   "metadata": {},
   "source": [
    "#### PCA grouped visualized"
   ]
  },
  {
   "cell_type": "code",
   "execution_count": null,
   "metadata": {},
   "outputs": [],
   "source": [
    "wf.visualizer_PCA_grouped(color_column = 'Type 2', marker_column='Type', cmap = 'viridis') "
   ]
  },
  {
   "cell_type": "code",
   "execution_count": null,
   "metadata": {},
   "outputs": [],
   "source": [
    "wf.visualizer_PCA_grouped(color_column='Type 2', marker_column=None, cmap = 'viridis')"
   ]
  },
  {
   "cell_type": "code",
   "execution_count": null,
   "metadata": {},
   "outputs": [],
   "source": [
    "wf.visualizer_PCA_grouped(color_column='Type', marker_column=None, cmap = 'nipy_spectral', crossout_outliers=True)"
   ]
  },
  {
   "cell_type": "markdown",
   "metadata": {},
   "source": [
    "### PLS-DA"
   ]
  },
  {
   "cell_type": "markdown",
   "metadata": {},
   "source": [
    "#### Perform PLS-DA by grouping by different atributes (response variable)"
   ]
  },
  {
   "cell_type": "code",
   "execution_count": null,
   "metadata": {},
   "outputs": [],
   "source": [
    "# Perform PLS-DA \n",
    "wf.statistics_PLSDA(response_column_names='Type 2')"
   ]
  },
  {
   "cell_type": "code",
   "execution_count": null,
   "metadata": {},
   "outputs": [],
   "source": [
    "# Visualize the PLS-DA\n",
    "wf.visualizer_PLSDA(cmap = 'viridis')"
   ]
  },
  {
   "cell_type": "code",
   "execution_count": null,
   "metadata": {},
   "outputs": [],
   "source": [
    "# Perform PLS-DA with different response column\n",
    "wf.statistics_PLSDA(response_column_names='Type')"
   ]
  },
  {
   "cell_type": "code",
   "execution_count": null,
   "metadata": {},
   "outputs": [],
   "source": [
    "# Visualize the PLS-DA\n",
    "wf.visualizer_PLSDA(cmap='viridis_r')"
   ]
  },
  {
   "cell_type": "code",
   "execution_count": null,
   "metadata": {},
   "outputs": [],
   "source": [
    "#Perform PLS-DA with multiple response columns (their combination)\n",
    "wf.statistics_PLSDA(response_column_names=['Type 2', 'Type'])"
   ]
  },
  {
   "cell_type": "code",
   "execution_count": null,
   "metadata": {},
   "outputs": [],
   "source": [
    "# Visualize the PLS-DA\n",
    "wf.visualizer_PLSDA(cmap='magma')"
   ]
  },
  {
   "cell_type": "markdown",
   "metadata": {},
   "source": [
    "### Violin plots"
   ]
  },
  {
   "cell_type": "code",
   "execution_count": null,
   "metadata": {},
   "outputs": [],
   "source": [
    "# Visualize features as violin plots\n",
    "wf.visualizer_violin_plots(column_names='Type 2', indexes = 'all', save_into_pdf=False, save_first=True, cmap='viridis')"
   ]
  },
  {
   "cell_type": "code",
   "execution_count": null,
   "metadata": {},
   "outputs": [],
   "source": [
    "# Visualize features as violin plots with different grouping column\n",
    "wf.visualizer_violin_plots(column_names='Type', indexes = 'all', save_into_pdf=False,  save_first=True, cmap='viridis')"
   ]
  },
  {
   "cell_type": "code",
   "execution_count": null,
   "metadata": {},
   "outputs": [],
   "source": [
    "# Visualize features as violin plots with combination of grouping columns\n",
    "wf.visualizer_violin_plots(column_names=['Type 2', 'Type'], indexes = [0, 1, 2, 3, 4], save_into_pdf=False, save_first=True, cmap='magma')"
   ]
  },
  {
   "cell_type": "markdown",
   "metadata": {},
   "source": [
    "### Printing out candidate variables features (compounds)"
   ]
  },
  {
   "cell_type": "code",
   "execution_count": null,
   "metadata": {},
   "outputs": [],
   "source": [
    "print(wf.candidate_variables)"
   ]
  },
  {
   "cell_type": "markdown",
   "metadata": {},
   "source": [
    "## Final touches"
   ]
  },
  {
   "cell_type": "code",
   "execution_count": null,
   "metadata": {},
   "outputs": [],
   "source": [
    "# Finalize report \n",
    "wf.finalizer_report()"
   ]
  },
  {
   "cell_type": "code",
   "execution_count": null,
   "metadata": {},
   "outputs": [],
   "source": []
  }
 ],
 "metadata": {
  "kernelspec": {
   "display_name": "pipeline",
   "language": "python",
   "name": "python3"
  },
  "language_info": {
   "codemirror_mode": {
    "name": "ipython",
    "version": 3
   },
   "file_extension": ".py",
   "mimetype": "text/x-python",
   "name": "python",
   "nbconvert_exporter": "python",
   "pygments_lexer": "ipython3",
   "version": "3.10.13"
  }
 },
 "nbformat": 4,
 "nbformat_minor": 2
}
